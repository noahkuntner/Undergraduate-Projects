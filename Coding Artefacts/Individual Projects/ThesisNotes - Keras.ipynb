{
 "cells": [
  {
   "cell_type": "markdown",
   "metadata": {},
   "source": [
    "3027020 - Noah Kuntner - Bemacs"
   ]
  },
  {
   "cell_type": "markdown",
   "metadata": {},
   "source": [
    "# I import from Keras' datasets the Cifar10 dataset, from Keras' models the sequential model and I am using the 2D Convolutional Layer Conv2D.\n",
    "## Additionally imports include from Keras' layers MaxPooling2D, Dense, Dropout, Activation and Flatten "
   ]
  },
  {
   "cell_type": "code",
   "execution_count": 1,
   "metadata": {},
   "outputs": [],
   "source": [
    "from __future__ import print_function\n",
    "import keras\n",
    "from keras.datasets import cifar10\n",
    "from keras.models import Sequential\n",
    "from keras.layers import Conv2D, MaxPooling2D, Dense, Dropout, Activation, Flatten\n",
    "from keras.preprocessing.image import ImageDataGenerator\n",
    "import os\n",
    "\n",
    "epochs = 15\n",
    "batch_size = 16\n",
    "classes = 10\n",
    "save_dir = os.path.join(\"C:/Users/noah_/Thesis\", \"saved_models\")\n",
    "model_name = \"cifar10_keras.h5\""
   ]
  },
  {
   "cell_type": "code",
   "execution_count": 2,
   "metadata": {},
   "outputs": [
    {
     "data": {
      "text/plain": [
       "'C:/Users/noah_/Thesis\\\\saved_models'"
      ]
     },
     "execution_count": 2,
     "metadata": {},
     "output_type": "execute_result"
    }
   ],
   "source": [
    "save_dir"
   ]
  },
  {
   "cell_type": "markdown",
   "metadata": {},
   "source": [
    "# Followingly, the dataset is split between training and test dataset.\n",
    "## Then I print out the shape of X and the number of train and test samples. "
   ]
  },
  {
   "cell_type": "code",
   "execution_count": 3,
   "metadata": {},
   "outputs": [
    {
     "name": "stdout",
     "output_type": "stream",
     "text": [
      "x_train shape: (50000, 32, 32, 3)\n",
      "50000 train samples\n",
      "10000 test samples\n"
     ]
    }
   ],
   "source": [
    "(x_train, y_train), (x_test, y_test) = cifar10.load_data()\n",
    "\n",
    "print(\"x_train shape: {}\".format(x_train.shape))\n",
    "print(\"{} train samples\".format(x_train.shape[0],))\n",
    "print(\"{} test samples\".format(x_test.shape[0], ))\n",
    "\n",
    "# We need to transform the variables into binary class matrices\n",
    "y_train = keras.utils.to_categorical(y_train, classes)\n",
    "y_test = keras.utils.to_categorical(y_test, classes)\n"
   ]
  },
  {
   "cell_type": "code",
   "execution_count": 4,
   "metadata": {},
   "outputs": [
    {
     "name": "stdout",
     "output_type": "stream",
     "text": [
      "10\n"
     ]
    }
   ],
   "source": [
    "print(classes)"
   ]
  },
  {
   "cell_type": "markdown",
   "metadata": {},
   "source": [
    "# Now we create the Convolutional neural network and add four layers."
   ]
  },
  {
   "cell_type": "code",
   "execution_count": 6,
   "metadata": {},
   "outputs": [],
   "source": [
    "model = Sequential()\n",
    "model.add(Conv2D(32, (3, 3), padding=\"same\",\n",
    "                 input_shape=x_train.shape[1:]))\n",
    "\n",
    "model.add(Activation(\"relu\"))\n",
    "\n",
    "model.add(Conv2D(32, (3, 3), padding=\"same\"))\n",
    "model.add(Activation(\"relu\"))\n",
    "model.add(MaxPooling2D(pool_size=(2, 2)))\n",
    "model.add(Dropout(0.3))\n",
    "\n",
    "model.add(Conv2D(64, (3, 3), padding=\"same\"))\n",
    "model.add(Activation(\"relu\"))\n",
    "model.add(MaxPooling2D(pool_size=(2, 2)))\n",
    "model.add(Dropout(0.25))\n",
    "\n",
    "model.add(Conv2D(64, (3, 3), padding=\"same\"))\n",
    "model.add(Activation(\"relu\"))\n",
    "model.add(MaxPooling2D(pool_size=(2, 2)))\n",
    "model.add(Dropout(0.25))\n",
    "\n",
    "model.add(Conv2D(64, (3, 3), padding=\"same\"))\n",
    "model.add(Activation(\"relu\"))\n",
    "model.add(MaxPooling2D(pool_size=(2, 2)))\n",
    "model.add(Dropout(0.2))\n",
    "\n",
    "model.add(Flatten())\n",
    "\n",
    "model.add(Dense(512))\n",
    "model.add(Activation(\"sigmoid\"))\n",
    "model.add(Dropout(0.5))\n",
    "model.add(Dense(classes))\n",
    "model.add(Activation('softmax'))\n"
   ]
  },
  {
   "cell_type": "markdown",
   "metadata": {},
   "source": [
    "# Now I, finally, train the model "
   ]
  },
  {
   "cell_type": "code",
   "execution_count": 7,
   "metadata": {},
   "outputs": [
    {
     "name": "stdout",
     "output_type": "stream",
     "text": [
      "Epoch 1/15\n",
      "3125/3125 [==============================] - 109s 35ms/step - loss: 1.6753 - accuracy: 0.3796 - val_loss: 1.2889 - val_accuracy: 0.5314\n",
      "Epoch 2/15\n",
      "3125/3125 [==============================] - 110s 35ms/step - loss: 1.2972 - accuracy: 0.5283 - val_loss: 1.0568 - val_accuracy: 0.6153\n",
      "Epoch 3/15\n",
      "3125/3125 [==============================] - 109s 35ms/step - loss: 1.1650 - accuracy: 0.5841 - val_loss: 1.0011 - val_accuracy: 0.6425\n",
      "Epoch 4/15\n",
      "3125/3125 [==============================] - 104s 33ms/step - loss: 1.0806 - accuracy: 0.6195 - val_loss: 1.0386 - val_accuracy: 0.6458\n",
      "Epoch 5/15\n",
      "3125/3125 [==============================] - 105s 34ms/step - loss: 1.0400 - accuracy: 0.6340 - val_loss: 0.8736 - val_accuracy: 0.6956\n",
      "Epoch 6/15\n",
      "3125/3125 [==============================] - 107s 34ms/step - loss: 0.9972 - accuracy: 0.6498 - val_loss: 0.8450 - val_accuracy: 0.7003\n",
      "Epoch 7/15\n",
      "3125/3125 [==============================] - 109s 35ms/step - loss: 0.9727 - accuracy: 0.6593 - val_loss: 0.8197 - val_accuracy: 0.7170\n",
      "Epoch 8/15\n",
      "3125/3125 [==============================] - 108s 35ms/step - loss: 0.9545 - accuracy: 0.6624 - val_loss: 0.9249 - val_accuracy: 0.6850\n",
      "Epoch 9/15\n",
      "3125/3125 [==============================] - 110s 35ms/step - loss: 0.9479 - accuracy: 0.6690 - val_loss: 0.7917 - val_accuracy: 0.7225\n",
      "Epoch 10/15\n",
      "3125/3125 [==============================] - 111s 36ms/step - loss: 0.9329 - accuracy: 0.6728 - val_loss: 0.7875 - val_accuracy: 0.7227\n",
      "Epoch 11/15\n",
      "3125/3125 [==============================] - 111s 36ms/step - loss: 0.9276 - accuracy: 0.6771 - val_loss: 0.7994 - val_accuracy: 0.7189\n",
      "Epoch 12/15\n",
      "3125/3125 [==============================] - 116s 37ms/step - loss: 0.9300 - accuracy: 0.6759 - val_loss: 0.7902 - val_accuracy: 0.7269\n",
      "Epoch 13/15\n",
      "3125/3125 [==============================] - 117s 38ms/step - loss: 0.9176 - accuracy: 0.6814 - val_loss: 0.7810 - val_accuracy: 0.7270\n",
      "Epoch 14/15\n",
      "3125/3125 [==============================] - 110s 35ms/step - loss: 0.9285 - accuracy: 0.6761 - val_loss: 0.7661 - val_accuracy: 0.7385\n",
      "Epoch 15/15\n",
      "3125/3125 [==============================] - 108s 34ms/step - loss: 0.9353 - accuracy: 0.6741 - val_loss: 0.7545 - val_accuracy: 0.7362\n"
     ]
    },
    {
     "data": {
      "text/plain": [
       "<tensorflow.python.keras.callbacks.History at 0x23a80060448>"
      ]
     },
     "execution_count": 7,
     "metadata": {},
     "output_type": "execute_result"
    }
   ],
   "source": [
    "#I've set the loss function to categorical_crossentropy and the optimizer to\n",
    "#stochastic optimizer Adam\n",
    "model.compile(loss='categorical_crossentropy', optimizer=\"adam\",\n",
    "              metrics=[\"accuracy\"])\n",
    "\n",
    "x_train = x_train.astype(\"float32\")\n",
    "x_test = x_test.astype(\"float32\")\n",
    "x_train = x_train / 200\n",
    "x_test = x_test / 200\n",
    "\n",
    "\n",
    "model.fit(x_train, y_train, batch_size=batch_size, epochs=epochs,\n",
    "              validation_data=(x_test, y_test), shuffle=True)\n"
   ]
  },
  {
   "cell_type": "code",
   "execution_count": null,
   "metadata": {},
   "outputs": [],
   "source": []
  }
 ],
 "metadata": {
  "kernelspec": {
   "display_name": "Python 3",
   "language": "python",
   "name": "python3"
  },
  "language_info": {
   "codemirror_mode": {
    "name": "ipython",
    "version": 3
   },
   "file_extension": ".py",
   "mimetype": "text/x-python",
   "name": "python",
   "nbconvert_exporter": "python",
   "pygments_lexer": "ipython3",
   "version": "3.7.7"
  }
 },
 "nbformat": 4,
 "nbformat_minor": 2
}
